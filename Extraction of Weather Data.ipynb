{
 "cells": [
  {
   "cell_type": "code",
   "execution_count": null,
   "metadata": {},
   "outputs": [],
   "source": [
    "#pip install package wwo-hist and import package and libraries\n",
    "from wwo_hist import retrieve_hist_data"
   ]
  },
  {
   "cell_type": "code",
   "execution_count": null,
   "metadata": {},
   "outputs": [],
   "source": [
    "#Set working directory to store output csv file(s)\n",
    "import os\n",
    "os.chdir(\"C:\\\\Users\\\\Philip Okoampah\\\\Desktop\\\\Projects\\\\Lifebank\\\\\")"
   ]
  },
  {
   "cell_type": "code",
   "execution_count": null,
   "metadata": {},
   "outputs": [],
   "source": [
    "#Code & Specific paramenters\n",
    "#subscribe for free trial premium API from worldweatheronline.com and input it.\n",
    "#frequency is in hours so this code gives the weather info within three hours intervals\n",
    "frequency = 3\n",
    "start_date = '2016-01-01'\n",
    "end_date = '2019-06-30'\n",
    "api_key = '4238a769a45d4eb0a0591442192407'\n",
    "location_list = ['abuja']\n",
    "\n",
    "hist_weather_data = retrieve_hist_data(api_key,\n",
    "                                      location_list,\n",
    "                                      start_date,\n",
    "                                      end_date,\n",
    "                                      frequency,\n",
    "                                      location_label= False,\n",
    "                                      export_csv = True,\n",
    "                                      store_df = True)"
   ]
  },
  {
   "cell_type": "code",
   "execution_count": null,
   "metadata": {},
   "outputs": [],
   "source": []
  }
 ],
 "metadata": {
  "kernelspec": {
   "display_name": "Python 3",
   "language": "python",
   "name": "python3"
  },
  "language_info": {
   "codemirror_mode": {
    "name": "ipython",
    "version": 3
   },
   "file_extension": ".py",
   "mimetype": "text/x-python",
   "name": "python",
   "nbconvert_exporter": "python",
   "pygments_lexer": "ipython3",
   "version": "3.6.5"
  }
 },
 "nbformat": 4,
 "nbformat_minor": 2
}
